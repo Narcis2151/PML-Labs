{
 "cells": [
  {
   "cell_type": "markdown",
   "metadata": {},
   "source": [
    "# Practical Machine Learning                                                                             \n",
    "# Lab 1"
   ]
  },
  {
   "cell_type": "markdown",
   "metadata": {},
   "source": [
    "## Exercises"
   ]
  },
  {
   "cell_type": "markdown",
   "metadata": {},
   "source": [
    "### 1.[Here](https://github.com//practical-ML-fmi/ML/raw/master/Data/lab1/images.zip), we have 8 images, read the images, flatten them, then store them in a numpy array. Before storing the images divide them by 255.\n",
    "The numpy array should have the dimension equals to (8, 12288), in order to check the dimension use the $shape$ attribute."
   ]
  },
  {
   "cell_type": "code",
   "execution_count": 1,
   "metadata": {
    "ExecuteTime": {
     "end_time": "2024-10-06T17:47:37.498238Z",
     "start_time": "2024-10-06T17:47:37.483282Z"
    },
    "collapsed": true
   },
   "outputs": [],
   "source": [
    "import numpy as np\n",
    "import matplotlib.pyplot as plt\n",
    "images = []\n",
    "for i in range(1, 9):\n",
    "    img = plt.imread(f'images/0{i}.png')\n",
    "    img = img / 255\n",
    "    img = img.flatten()\n",
    "    images.append(img)\n",
    "images = np.array(images)\n"
   ]
  },
  {
   "cell_type": "markdown",
   "metadata": {},
   "source": [
    "### 2. Compute the mean of the images. "
   ]
  },
  {
   "cell_type": "code",
   "execution_count": 2,
   "metadata": {
    "ExecuteTime": {
     "end_time": "2024-10-06T17:47:40.761834Z",
     "start_time": "2024-10-06T17:47:40.757996Z"
    },
    "collapsed": true
   },
   "outputs": [],
   "source": [
    "mean_image = np.mean(images, axis=0)"
   ]
  },
  {
   "cell_type": "markdown",
   "metadata": {},
   "source": [
    "### 3. Normalize the images by subtracting the mean from each image."
   ]
  },
  {
   "cell_type": "code",
   "execution_count": 3,
   "metadata": {
    "ExecuteTime": {
     "end_time": "2024-10-06T17:48:20.285636Z",
     "start_time": "2024-10-06T17:48:20.282579Z"
    },
    "collapsed": true
   },
   "outputs": [],
   "source": [
    "# write your code here\n",
    "normalized_images = images - mean_image"
   ]
  },
  {
   "cell_type": "markdown",
   "metadata": {},
   "source": [
    "### 4. [Here](https://github.com//practical-ML-fmi/ML/raw/master/Data/lab1/weights.zip), we have the weights and the bias for a perceptron that classifies the images in 4 classes. Use the weights (use np.load(‘path’) to load the weights) and the images (after normalization) to compute (y_hat) the predictions of the perceptron.  \n",
    "  $$ y_{hat} = softmax(X * W + b) $$\n",
    "  $$ X - input, W - weights, b - bias $$\n",
    "  $$Softmax(z_i)=\\frac{e^{z_i}}{\\sum_{j=1}^{j=K} e^{z_j} }$$"
   ]
  },
  {
   "cell_type": "code",
   "execution_count": 5,
   "metadata": {
    "ExecuteTime": {
     "end_time": "2024-10-06T17:49:43.353966Z",
     "start_time": "2024-10-06T17:49:43.328141Z"
    },
    "collapsed": true
   },
   "outputs": [],
   "source": [
    "# write your code here\n",
    "weights = np.load('coefs.npy')\n",
    "bias = np.load('bias.npy')\n",
    "y_hat = np.dot(normalized_images, weights) + bias"
   ]
  },
  {
   "cell_type": "markdown",
   "metadata": {},
   "source": [
    "### 5. Let the ground-truth labels be y = [0, 0, 1, 1, 2,  2, 3,  3]. Compute the accuracy of the classifier (define a new function accuracy_score). \n",
    "$$Accuracy = \\frac{1}{n} \\sum_{i=1}^{j=n} y_{pred}^i == y_{true}^i$$"
   ]
  },
  {
   "cell_type": "code",
   "execution_count": 11,
   "metadata": {
    "collapsed": true
   },
   "outputs": [
    {
     "name": "stdout",
     "output_type": "stream",
     "text": [
      "Accuracy: 0.75\n",
      "[0 0 1 1 2 2 0 2]\n"
     ]
    }
   ],
   "source": [
    "# write your code here \n",
    "def accuracy_score(y_true, y_pred):\n",
    "    return np.mean(y_true == y_pred)\n",
    "\n",
    "y_pred = np.argmax(y_hat, axis=1)\n",
    "y_true = np.array([0, 0, 1, 1, 2, 2, 3, 3])\n",
    "accuracy = accuracy_score(y_true, y_pred)\n",
    "print(f'Accuracy: {accuracy:.2f}')\n",
    "print(y_pred)"
   ]
  },
  {
   "cell_type": "markdown",
   "metadata": {},
   "source": [
    "### 6. The labels of the classes are: (Cat - 0,  Dog - 1, Frog - 2,  Horse - 3), print the label for each prediction (use a dictionary). \n"
   ]
  },
  {
   "cell_type": "code",
   "execution_count": 12,
   "metadata": {
    "collapsed": true
   },
   "outputs": [
    {
     "name": "stdout",
     "output_type": "stream",
     "text": [
      "Image 0 is a Cat\n",
      "Image 1 is a Cat\n",
      "Image 2 is a Dog\n",
      "Image 3 is a Dog\n",
      "Image 4 is a Frog\n",
      "Image 5 is a Frog\n",
      "Image 6 is a Cat\n",
      "Image 7 is a Frog\n"
     ]
    }
   ],
   "source": [
    "# write your code here\n",
    "labels = {0: 'Cat', 1: 'Dog', 2: 'Frog', 3: 'Horse'}\n",
    "y_pred = np.argmax(y_hat, axis=1)\n",
    "for i in range(len(y_pred)):\n",
    "    print(f'Image {i} is a {labels[y_pred[i]]}')"
   ]
  },
  {
   "cell_type": "markdown",
   "metadata": {},
   "source": [
    "### 7. Display the mean image (use imshow from Matplotlib).\n",
    "#### Don’t forget to multiply the image by 255, then convert the image to uint8."
   ]
  },
  {
   "cell_type": "code",
   "execution_count": 13,
   "metadata": {
    "collapsed": true
   },
   "outputs": [
    {
     "data": {
      "text/plain": [
       "<matplotlib.image.AxesImage at 0x115e75990>"
      ]
     },
     "execution_count": 13,
     "metadata": {},
     "output_type": "execute_result"
    },
    {
     "data": {
      "image/png": "[encoded data removed]",
      "text/plain": [
       "<Figure size 640x480 with 1 Axes>"
      ]
     },
     "metadata": {},
     "output_type": "display_data"
    }
   ],
   "source": [
    "# write your code here\n",
    "import matplotlib.pyplot as plt\n",
    "plt.imshow(mean_image.reshape(64, 64, 3) * 255)"
   ]
  }
 ],
 "metadata": {
  "kernelspec": {
   "display_name": "Python 3",
   "language": "python",
   "name": "python3"
  },
  "language_info": {
   "codemirror_mode": {
    "name": "ipython",
    "version": 3
   },
   "file_extension": ".py",
   "mimetype": "text/x-python",
   "name": "python",
   "nbconvert_exporter": "python",
   "pygments_lexer": "ipython3",
   "version": "3.11.7"
  }
 },
 "nbformat": 4,
 "nbformat_minor": 2
}
